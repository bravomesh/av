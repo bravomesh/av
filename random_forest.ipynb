{
 "cells": [
  {
   "cell_type": "code",
   "execution_count": null,
   "metadata": {},
   "outputs": [],
   "source": [
    "import pandas as pd\n",
    "import numpy as np"
   ]
  },
  {
   "cell_type": "code",
   "execution_count": null,
   "metadata": {},
   "outputs": [],
   "source": [
    "df=pd.read_csv('aviator_payouts.csv')"
   ]
  },
  {
   "cell_type": "code",
   "execution_count": null,
   "metadata": {},
   "outputs": [],
   "source": [
    "df['app'].unique()"
   ]
  },
  {
   "cell_type": "code",
   "execution_count": null,
   "metadata": {},
   "outputs": [],
   "source": [
    "df['app'].value_counts()"
   ]
  },
  {
   "cell_type": "code",
   "execution_count": null,
   "metadata": {},
   "outputs": [],
   "source": [
    "etika_df = df[df['app'] == 'BETIKA']\n",
    "winpesa_df = df[df['app'] == 'WINPESA']\n",
    "odibets_df = df[df['app'] == 'ODIBETS']\n",
    "betr8_df = df[df['app'] == 'BETR8']"
   ]
  },
  {
   "cell_type": "code",
   "execution_count": null,
   "metadata": {},
   "outputs": [],
   "source": [
    "print(betika_df.info())"
   ]
  },
  {
   "cell_type": "code",
   "execution_count": null,
   "metadata": {},
   "outputs": [],
   "source": [
    "betika_above5=betika_df[betika_df['payout']>5]"
   ]
  },
  {
   "cell_type": "code",
   "execution_count": null,
   "metadata": {},
   "outputs": [],
   "source": [
    "betika_above5.info()"
   ]
  },
  {
   "cell_type": "code",
   "execution_count": null,
   "metadata": {},
   "outputs": [],
   "source": [
    "# Sort betika_df by timestamp\n",
    "betika_df.sort_values(by='created_at', inplace=True)\n"
   ]
  },
  {
   "cell_type": "code",
   "execution_count": null,
   "metadata": {},
   "outputs": [],
   "source": [
    "# Create a rolling window of past payouts\n",
    "window_size = 5\n",
    "betika_df['payout_t-1'] = betika_df['payout'].shift(1)\n",
    "betika_df['payout_t-2'] = betika_df['payout'].shift(2)\n",
    "betika_df['payout_t-3'] = betika_df['payout'].shift(3)\n",
    "betika_df['payout_t-4'] = betika_df['payout'].shift(4)\n",
    "betika_df['payout_t-5'] = betika_df['payout'].shift(5)\n",
    "\n",
    "# Drop rows with NaN values introduced by shifting\n",
    "betika_df.dropna(inplace=True)\n"
   ]
  },
  {
   "cell_type": "code",
   "execution_count": null,
   "metadata": {},
   "outputs": [],
   "source": [
    "from sklearn.model_selection import train_test_split\n",
    "\n",
    "# Features and target variable\n",
    "X = betika_df[['payout_t-1', 'payout_t-2', 'payout_t-3', 'payout_t-4', 'payout_t-5']]\n",
    "y = betika_df['payout']\n",
    "\n",
    "# Split data into train and test sets\n",
    "X_train, X_test, y_train, y_test = train_test_split(X, y, test_size=0.2, random_state=42)\n"
   ]
  },
  {
   "cell_type": "code",
   "execution_count": null,
   "metadata": {},
   "outputs": [],
   "source": [
    "from sklearn.ensemble import RandomForestRegressor\n",
    "\n",
    "# Initialize the model (you can replace this with an RNN or LSTM model)\n",
    "model = RandomForestRegressor(n_estimators=100, random_state=42)\n",
    "\n",
    "# Train the model\n",
    "model.fit(X_train, y_train)\n"
   ]
  },
  {
   "cell_type": "code",
   "execution_count": null,
   "metadata": {},
   "outputs": [],
   "source": [
    "from sklearn.metrics import mean_squared_error\n",
    "\n",
    "# Make predictions on the test set\n",
    "y_pred = model.predict(X_test)\n",
    "\n",
    "# Evaluate the model\n",
    "mse = mean_squared_error(y_test, y_pred)\n",
    "print(\"Mean Squared Error:\", mse)\n"
   ]
  },
  {
   "cell_type": "code",
   "execution_count": null,
   "metadata": {},
   "outputs": [],
   "source": [
    "# Random sequence of 5 payouts\n",
    "random_sequence = [1.04,8.49,1.00,1.00,5.32]\n",
    "\n",
    "# Reshape the sequence for prediction\n",
    "sequence_array = np.array(random_sequence).reshape(1, -1)\n",
    "\n",
    "# Predict the next payout\n",
    "predicted_payout = model.predict(sequence_array)\n",
    "print(\"Predicted Payout for the Sixth Game:\", predicted_payout)\n"
   ]
  }
 ],
 "metadata": {
  "language_info": {
   "name": "python"
  }
 },
 "nbformat": 4,
 "nbformat_minor": 2
}
